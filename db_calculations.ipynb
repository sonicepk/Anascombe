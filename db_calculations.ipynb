{
  "nbformat": 4,
  "nbformat_minor": 0,
  "metadata": {
    "colab": {
      "provenance": [],
      "authorship_tag": "ABX9TyMKRKNBGlH4caBlPvE21RbI",
      "include_colab_link": true
    },
    "kernelspec": {
      "name": "python3",
      "display_name": "Python 3"
    },
    "language_info": {
      "name": "python"
    },
    "widgets": {
      "application/vnd.jupyter.widget-state+json": {
        "65d9df08dd04483f96f9ad62d5e51d02": {
          "model_module": "@jupyter-widgets/controls",
          "model_name": "FloatTextModel",
          "model_module_version": "1.5.0",
          "state": {
            "_dom_classes": [],
            "_model_module": "@jupyter-widgets/controls",
            "_model_module_version": "1.5.0",
            "_model_name": "FloatTextModel",
            "_view_count": null,
            "_view_module": "@jupyter-widgets/controls",
            "_view_module_version": "1.5.0",
            "_view_name": "FloatTextView",
            "continuous_update": false,
            "description": "Milliwatts (mW):",
            "description_tooltip": null,
            "disabled": false,
            "layout": "IPY_MODEL_282f961d5e814863a09ba1e162731ccf",
            "step": null,
            "style": "IPY_MODEL_2f11a848a934441f899b1febf3947e93",
            "value": 10
          }
        },
        "282f961d5e814863a09ba1e162731ccf": {
          "model_module": "@jupyter-widgets/base",
          "model_name": "LayoutModel",
          "model_module_version": "1.2.0",
          "state": {
            "_model_module": "@jupyter-widgets/base",
            "_model_module_version": "1.2.0",
            "_model_name": "LayoutModel",
            "_view_count": null,
            "_view_module": "@jupyter-widgets/base",
            "_view_module_version": "1.2.0",
            "_view_name": "LayoutView",
            "align_content": null,
            "align_items": null,
            "align_self": null,
            "border": null,
            "bottom": null,
            "display": null,
            "flex": null,
            "flex_flow": null,
            "grid_area": null,
            "grid_auto_columns": null,
            "grid_auto_flow": null,
            "grid_auto_rows": null,
            "grid_column": null,
            "grid_gap": null,
            "grid_row": null,
            "grid_template_areas": null,
            "grid_template_columns": null,
            "grid_template_rows": null,
            "height": null,
            "justify_content": null,
            "justify_items": null,
            "left": null,
            "margin": null,
            "max_height": null,
            "max_width": null,
            "min_height": null,
            "min_width": null,
            "object_fit": null,
            "object_position": null,
            "order": null,
            "overflow": null,
            "overflow_x": null,
            "overflow_y": null,
            "padding": null,
            "right": null,
            "top": null,
            "visibility": null,
            "width": null
          }
        },
        "2f11a848a934441f899b1febf3947e93": {
          "model_module": "@jupyter-widgets/controls",
          "model_name": "DescriptionStyleModel",
          "model_module_version": "1.5.0",
          "state": {
            "_model_module": "@jupyter-widgets/controls",
            "_model_module_version": "1.5.0",
            "_model_name": "DescriptionStyleModel",
            "_view_count": null,
            "_view_module": "@jupyter-widgets/base",
            "_view_module_version": "1.2.0",
            "_view_name": "StyleView",
            "description_width": ""
          }
        },
        "136e19becd914bf88963047d0fc13b37": {
          "model_module": "@jupyter-widgets/controls",
          "model_name": "LabelModel",
          "model_module_version": "1.5.0",
          "state": {
            "_dom_classes": [],
            "_model_module": "@jupyter-widgets/controls",
            "_model_module_version": "1.5.0",
            "_model_name": "LabelModel",
            "_view_count": null,
            "_view_module": "@jupyter-widgets/controls",
            "_view_module_version": "1.5.0",
            "_view_name": "LabelView",
            "description": "",
            "description_tooltip": null,
            "layout": "IPY_MODEL_4bf29b14060841adaa681cd18cfeb6dd",
            "placeholder": "​",
            "style": "IPY_MODEL_b1ec5cf4921146aab338e049053e01e9",
            "value": "10.00 dBm"
          }
        },
        "4bf29b14060841adaa681cd18cfeb6dd": {
          "model_module": "@jupyter-widgets/base",
          "model_name": "LayoutModel",
          "model_module_version": "1.2.0",
          "state": {
            "_model_module": "@jupyter-widgets/base",
            "_model_module_version": "1.2.0",
            "_model_name": "LayoutModel",
            "_view_count": null,
            "_view_module": "@jupyter-widgets/base",
            "_view_module_version": "1.2.0",
            "_view_name": "LayoutView",
            "align_content": null,
            "align_items": null,
            "align_self": null,
            "border": null,
            "bottom": null,
            "display": null,
            "flex": null,
            "flex_flow": null,
            "grid_area": null,
            "grid_auto_columns": null,
            "grid_auto_flow": null,
            "grid_auto_rows": null,
            "grid_column": null,
            "grid_gap": null,
            "grid_row": null,
            "grid_template_areas": null,
            "grid_template_columns": null,
            "grid_template_rows": null,
            "height": null,
            "justify_content": null,
            "justify_items": null,
            "left": null,
            "margin": null,
            "max_height": null,
            "max_width": null,
            "min_height": null,
            "min_width": null,
            "object_fit": null,
            "object_position": null,
            "order": null,
            "overflow": null,
            "overflow_x": null,
            "overflow_y": null,
            "padding": null,
            "right": null,
            "top": null,
            "visibility": null,
            "width": null
          }
        },
        "b1ec5cf4921146aab338e049053e01e9": {
          "model_module": "@jupyter-widgets/controls",
          "model_name": "DescriptionStyleModel",
          "model_module_version": "1.5.0",
          "state": {
            "_model_module": "@jupyter-widgets/controls",
            "_model_module_version": "1.5.0",
            "_model_name": "DescriptionStyleModel",
            "_view_count": null,
            "_view_module": "@jupyter-widgets/base",
            "_view_module_version": "1.2.0",
            "_view_name": "StyleView",
            "description_width": ""
          }
        }
      }
    }
  },
  "cells": [
    {
      "cell_type": "markdown",
      "metadata": {
        "id": "view-in-github",
        "colab_type": "text"
      },
      "source": [
        "<a href=\"https://colab.research.google.com/github/sonicepk/Anascombe/blob/main/db_calculations.ipynb\" target=\"_parent\"><img src=\"https://colab.research.google.com/assets/colab-badge.svg\" alt=\"Open In Colab\"/></a>"
      ]
    },
    {
      "cell_type": "code",
      "execution_count": 6,
      "metadata": {
        "colab": {
          "base_uri": "https://localhost:8080/",
          "height": 79,
          "referenced_widgets": [
            "65d9df08dd04483f96f9ad62d5e51d02",
            "282f961d5e814863a09ba1e162731ccf",
            "2f11a848a934441f899b1febf3947e93",
            "136e19becd914bf88963047d0fc13b37",
            "4bf29b14060841adaa681cd18cfeb6dd",
            "b1ec5cf4921146aab338e049053e01e9"
          ]
        },
        "id": "eFiTSXmu_IG9",
        "outputId": "7388829a-2557-4293-b569-64b58b3e8a00"
      },
      "outputs": [
        {
          "output_type": "display_data",
          "data": {
            "text/plain": [
              "FloatText(value=2.0, description='Milliwatts (mW):')"
            ],
            "application/vnd.jupyter.widget-view+json": {
              "version_major": 2,
              "version_minor": 0,
              "model_id": "65d9df08dd04483f96f9ad62d5e51d02"
            }
          },
          "metadata": {}
        },
        {
          "output_type": "display_data",
          "data": {
            "text/plain": [
              "Label(value='dBm:')"
            ],
            "application/vnd.jupyter.widget-view+json": {
              "version_major": 2,
              "version_minor": 0,
              "model_id": "136e19becd914bf88963047d0fc13b37"
            }
          },
          "metadata": {}
        }
      ],
      "source": [
        "import numpy as np\n",
        "import ipywidgets as widgets\n",
        "from IPython.display import display\n",
        "\n",
        "# Function to convert milliwatts to dBm\n",
        "def milliwatts_to_dbm(milliwatts):\n",
        "  \"\"\"Converts power in milliwatts to dBm.\n",
        "\n",
        "  Args:\n",
        "    milliwatts: The power in milliwatts.\n",
        "\n",
        "  Returns:\n",
        "    The power in dBm. Returns None if the input is invalid.\n",
        "  \"\"\"\n",
        "  if milliwatts <= 0:\n",
        "      return None\n",
        "  dbm = 10 * np.log10(milliwatts)\n",
        "  return dbm\n",
        "\n",
        "\n",
        "# Create the input widget for milliwatts\n",
        "milliwatts_input = widgets.FloatText(\n",
        "    value=2.0,\n",
        "    description='Milliwatts (mW):',\n",
        "    disabled=False\n",
        ")\n",
        "\n",
        "# Create the output widget for dBm\n",
        "dbm_output = widgets.Label(value='dBm:')\n",
        "\n",
        "# Function to update the dBm output when milliwatts changes\n",
        "def update_dbm(change):\n",
        "    milliwatts = change.new\n",
        "    if milliwatts is not None:\n",
        "      dbm = milliwatts_to_dbm(milliwatts)\n",
        "      if dbm is None:\n",
        "        dbm_output.value = \"Invalid input: Must be greater than 0.\"\n",
        "      else:\n",
        "        dbm_output.value = f'{dbm:.2f} dBm'\n",
        "    else:\n",
        "        dbm_output.value = \"Invalid input.\"\n",
        "\n",
        "# Observe changes in the milliwatts input\n",
        "milliwatts_input.observe(update_dbm, names='value')\n",
        "\n",
        "# Display the widgets\n",
        "display(milliwatts_input)\n",
        "display(dbm_output)"
      ]
    },
    {
      "cell_type": "markdown",
      "source": [
        "Convert from miliwatts to dBm"
      ],
      "metadata": {
        "id": "ZkYTktAF_P91"
      }
    }
  ]
}