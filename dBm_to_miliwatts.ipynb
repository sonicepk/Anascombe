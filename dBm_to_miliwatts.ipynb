{
  "nbformat": 4,
  "nbformat_minor": 0,
  "metadata": {
    "colab": {
      "provenance": [],
      "authorship_tag": "ABX9TyM2KCakDTreCVBaLjTBh2q9",
      "include_colab_link": true
    },
    "kernelspec": {
      "name": "python3",
      "display_name": "Python 3"
    },
    "language_info": {
      "name": "python"
    },
    "widgets": {
      "application/vnd.jupyter.widget-state+json": {
        "43217367af1f43e3917d6eec0bb2bef0": {
          "model_module": "@jupyter-widgets/controls",
          "model_name": "FloatTextModel",
          "model_module_version": "1.5.0",
          "state": {
            "_dom_classes": [],
            "_model_module": "@jupyter-widgets/controls",
            "_model_module_version": "1.5.0",
            "_model_name": "FloatTextModel",
            "_view_count": null,
            "_view_module": "@jupyter-widgets/controls",
            "_view_module_version": "1.5.0",
            "_view_name": "FloatTextView",
            "continuous_update": false,
            "description": "dBm:",
            "description_tooltip": null,
            "disabled": false,
            "layout": "IPY_MODEL_54a854c9a09943929e6ab5652dd28949",
            "step": null,
            "style": "IPY_MODEL_213e6eeabf3b4faea4018ad95e5b07e1",
            "value": 3
          }
        },
        "54a854c9a09943929e6ab5652dd28949": {
          "model_module": "@jupyter-widgets/base",
          "model_name": "LayoutModel",
          "model_module_version": "1.2.0",
          "state": {
            "_model_module": "@jupyter-widgets/base",
            "_model_module_version": "1.2.0",
            "_model_name": "LayoutModel",
            "_view_count": null,
            "_view_module": "@jupyter-widgets/base",
            "_view_module_version": "1.2.0",
            "_view_name": "LayoutView",
            "align_content": null,
            "align_items": null,
            "align_self": null,
            "border": null,
            "bottom": null,
            "display": null,
            "flex": null,
            "flex_flow": null,
            "grid_area": null,
            "grid_auto_columns": null,
            "grid_auto_flow": null,
            "grid_auto_rows": null,
            "grid_column": null,
            "grid_gap": null,
            "grid_row": null,
            "grid_template_areas": null,
            "grid_template_columns": null,
            "grid_template_rows": null,
            "height": null,
            "justify_content": null,
            "justify_items": null,
            "left": null,
            "margin": null,
            "max_height": null,
            "max_width": null,
            "min_height": null,
            "min_width": null,
            "object_fit": null,
            "object_position": null,
            "order": null,
            "overflow": null,
            "overflow_x": null,
            "overflow_y": null,
            "padding": null,
            "right": null,
            "top": null,
            "visibility": null,
            "width": null
          }
        },
        "213e6eeabf3b4faea4018ad95e5b07e1": {
          "model_module": "@jupyter-widgets/controls",
          "model_name": "DescriptionStyleModel",
          "model_module_version": "1.5.0",
          "state": {
            "_model_module": "@jupyter-widgets/controls",
            "_model_module_version": "1.5.0",
            "_model_name": "DescriptionStyleModel",
            "_view_count": null,
            "_view_module": "@jupyter-widgets/base",
            "_view_module_version": "1.2.0",
            "_view_name": "StyleView",
            "description_width": ""
          }
        },
        "428214002e134d73a3618c2eb5fa2c4c": {
          "model_module": "@jupyter-widgets/controls",
          "model_name": "LabelModel",
          "model_module_version": "1.5.0",
          "state": {
            "_dom_classes": [],
            "_model_module": "@jupyter-widgets/controls",
            "_model_module_version": "1.5.0",
            "_model_name": "LabelModel",
            "_view_count": null,
            "_view_module": "@jupyter-widgets/controls",
            "_view_module_version": "1.5.0",
            "_view_name": "LabelView",
            "description": "",
            "description_tooltip": null,
            "layout": "IPY_MODEL_6db5bd06139d4b53bcb01c58600be73d",
            "placeholder": "​",
            "style": "IPY_MODEL_8dbec86cdcbe4c089c88d079c2fce9bc",
            "value": "1.9953 mW"
          }
        },
        "6db5bd06139d4b53bcb01c58600be73d": {
          "model_module": "@jupyter-widgets/base",
          "model_name": "LayoutModel",
          "model_module_version": "1.2.0",
          "state": {
            "_model_module": "@jupyter-widgets/base",
            "_model_module_version": "1.2.0",
            "_model_name": "LayoutModel",
            "_view_count": null,
            "_view_module": "@jupyter-widgets/base",
            "_view_module_version": "1.2.0",
            "_view_name": "LayoutView",
            "align_content": null,
            "align_items": null,
            "align_self": null,
            "border": null,
            "bottom": null,
            "display": null,
            "flex": null,
            "flex_flow": null,
            "grid_area": null,
            "grid_auto_columns": null,
            "grid_auto_flow": null,
            "grid_auto_rows": null,
            "grid_column": null,
            "grid_gap": null,
            "grid_row": null,
            "grid_template_areas": null,
            "grid_template_columns": null,
            "grid_template_rows": null,
            "height": null,
            "justify_content": null,
            "justify_items": null,
            "left": null,
            "margin": null,
            "max_height": null,
            "max_width": null,
            "min_height": null,
            "min_width": null,
            "object_fit": null,
            "object_position": null,
            "order": null,
            "overflow": null,
            "overflow_x": null,
            "overflow_y": null,
            "padding": null,
            "right": null,
            "top": null,
            "visibility": null,
            "width": null
          }
        },
        "8dbec86cdcbe4c089c88d079c2fce9bc": {
          "model_module": "@jupyter-widgets/controls",
          "model_name": "DescriptionStyleModel",
          "model_module_version": "1.5.0",
          "state": {
            "_model_module": "@jupyter-widgets/controls",
            "_model_module_version": "1.5.0",
            "_model_name": "DescriptionStyleModel",
            "_view_count": null,
            "_view_module": "@jupyter-widgets/base",
            "_view_module_version": "1.2.0",
            "_view_name": "StyleView",
            "description_width": ""
          }
        }
      }
    }
  },
  "cells": [
    {
      "cell_type": "markdown",
      "metadata": {
        "id": "view-in-github",
        "colab_type": "text"
      },
      "source": [
        "<a href=\"https://colab.research.google.com/github/sonicepk/Anascombe/blob/main/dBm_to_miliwatts.ipynb\" target=\"_parent\"><img src=\"https://colab.research.google.com/assets/colab-badge.svg\" alt=\"Open In Colab\"/></a>"
      ]
    },
    {
      "cell_type": "code",
      "execution_count": 1,
      "metadata": {
        "colab": {
          "base_uri": "https://localhost:8080/",
          "height": 79,
          "referenced_widgets": [
            "43217367af1f43e3917d6eec0bb2bef0",
            "54a854c9a09943929e6ab5652dd28949",
            "213e6eeabf3b4faea4018ad95e5b07e1",
            "428214002e134d73a3618c2eb5fa2c4c",
            "6db5bd06139d4b53bcb01c58600be73d",
            "8dbec86cdcbe4c089c88d079c2fce9bc"
          ]
        },
        "id": "X5pCmSa8DeF1",
        "outputId": "3e581d8b-4d1b-45a5-f27d-ae40449ed553"
      },
      "outputs": [
        {
          "output_type": "display_data",
          "data": {
            "text/plain": [
              "FloatText(value=0.0, description='dBm:')"
            ],
            "application/vnd.jupyter.widget-view+json": {
              "version_major": 2,
              "version_minor": 0,
              "model_id": "43217367af1f43e3917d6eec0bb2bef0"
            }
          },
          "metadata": {}
        },
        {
          "output_type": "display_data",
          "data": {
            "text/plain": [
              "Label(value='Milliwatts (mW):')"
            ],
            "application/vnd.jupyter.widget-view+json": {
              "version_major": 2,
              "version_minor": 0,
              "model_id": "428214002e134d73a3618c2eb5fa2c4c"
            }
          },
          "metadata": {}
        }
      ],
      "source": [
        "import numpy as np\n",
        "import ipywidgets as widgets\n",
        "from IPython.display import display\n",
        "\n",
        "# Function to convert dBm to milliwatts\n",
        "def dbm_to_milliwatts(dbm):\n",
        "  \"\"\"Converts power in dBm to milliwatts.\n",
        "\n",
        "  Args:\n",
        "    dbm: The power in dBm.\n",
        "\n",
        "  Returns:\n",
        "    The power in milliwatts.\n",
        "  \"\"\"\n",
        "  milliwatts = 10 ** (dbm / 10)\n",
        "  return milliwatts\n",
        "\n",
        "\n",
        "# Create the input widget for dBm\n",
        "dbm_input = widgets.FloatText(\n",
        "    value=0.0,\n",
        "    description='dBm:',\n",
        "    disabled=False\n",
        ")\n",
        "\n",
        "# Create the output widget for milliwatts\n",
        "milliwatts_output = widgets.Label(value='Milliwatts (mW):')\n",
        "\n",
        "# Function to update the milliwatts output when dBm changes\n",
        "def update_milliwatts(change):\n",
        "    dbm = change.new\n",
        "    if dbm is not None:\n",
        "        milliwatts = dbm_to_milliwatts(dbm)\n",
        "        milliwatts_output.value = f'{milliwatts:.4f} mW'  # Show 4 decimal places\n",
        "\n",
        "# Observe changes in the dBm input\n",
        "dbm_input.observe(update_milliwatts, names='value')\n",
        "\n",
        "# Display the widgets\n",
        "display(dbm_input)\n",
        "display(milliwatts_output)"
      ]
    }
  ]
}