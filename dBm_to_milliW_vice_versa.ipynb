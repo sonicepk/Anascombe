{
  "nbformat": 4,
  "nbformat_minor": 0,
  "metadata": {
    "colab": {
      "provenance": [],
      "authorship_tag": "ABX9TyOCV6enxZZv83mUKUZOS6UW",
      "include_colab_link": true
    },
    "kernelspec": {
      "name": "python3",
      "display_name": "Python 3"
    },
    "language_info": {
      "name": "python"
    },
    "widgets": {
      "application/vnd.jupyter.widget-state+json": {
        "a1805098ca6c4b6e8ab1d5edbbcee348": {
          "model_module": "@jupyter-widgets/controls",
          "model_name": "FloatTextModel",
          "model_module_version": "1.5.0",
          "state": {
            "_dom_classes": [],
            "_model_module": "@jupyter-widgets/controls",
            "_model_module_version": "1.5.0",
            "_model_name": "FloatTextModel",
            "_view_count": null,
            "_view_module": "@jupyter-widgets/controls",
            "_view_module_version": "1.5.0",
            "_view_name": "FloatTextView",
            "continuous_update": false,
            "description": "Milliwatts (mW):",
            "description_tooltip": null,
            "disabled": false,
            "layout": "IPY_MODEL_8229c402b7ef470e98618375cfd7dc38",
            "step": null,
            "style": "IPY_MODEL_7e5c54c7aabe4a6aa12fefe5f91ab0f5",
            "value": 2
          }
        },
        "8229c402b7ef470e98618375cfd7dc38": {
          "model_module": "@jupyter-widgets/base",
          "model_name": "LayoutModel",
          "model_module_version": "1.2.0",
          "state": {
            "_model_module": "@jupyter-widgets/base",
            "_model_module_version": "1.2.0",
            "_model_name": "LayoutModel",
            "_view_count": null,
            "_view_module": "@jupyter-widgets/base",
            "_view_module_version": "1.2.0",
            "_view_name": "LayoutView",
            "align_content": null,
            "align_items": null,
            "align_self": null,
            "border": null,
            "bottom": null,
            "display": null,
            "flex": null,
            "flex_flow": null,
            "grid_area": null,
            "grid_auto_columns": null,
            "grid_auto_flow": null,
            "grid_auto_rows": null,
            "grid_column": null,
            "grid_gap": null,
            "grid_row": null,
            "grid_template_areas": null,
            "grid_template_columns": null,
            "grid_template_rows": null,
            "height": null,
            "justify_content": null,
            "justify_items": null,
            "left": null,
            "margin": null,
            "max_height": null,
            "max_width": null,
            "min_height": null,
            "min_width": null,
            "object_fit": null,
            "object_position": null,
            "order": null,
            "overflow": null,
            "overflow_x": null,
            "overflow_y": null,
            "padding": null,
            "right": null,
            "top": null,
            "visibility": null,
            "width": null
          }
        },
        "7e5c54c7aabe4a6aa12fefe5f91ab0f5": {
          "model_module": "@jupyter-widgets/controls",
          "model_name": "DescriptionStyleModel",
          "model_module_version": "1.5.0",
          "state": {
            "_model_module": "@jupyter-widgets/controls",
            "_model_module_version": "1.5.0",
            "_model_name": "DescriptionStyleModel",
            "_view_count": null,
            "_view_module": "@jupyter-widgets/base",
            "_view_module_version": "1.2.0",
            "_view_name": "StyleView",
            "description_width": ""
          }
        },
        "a5da68afab2c43cdb88a5643c8fd00ba": {
          "model_module": "@jupyter-widgets/controls",
          "model_name": "LabelModel",
          "model_module_version": "1.5.0",
          "state": {
            "_dom_classes": [],
            "_model_module": "@jupyter-widgets/controls",
            "_model_module_version": "1.5.0",
            "_model_name": "LabelModel",
            "_view_count": null,
            "_view_module": "@jupyter-widgets/controls",
            "_view_module_version": "1.5.0",
            "_view_name": "LabelView",
            "description": "",
            "description_tooltip": null,
            "layout": "IPY_MODEL_c00fb306f7e645e0a78e0c7cfd3c912b",
            "placeholder": "​",
            "style": "IPY_MODEL_8814b7f4b36741349666c3e30664f2c2",
            "value": "3.01 dBm"
          }
        },
        "c00fb306f7e645e0a78e0c7cfd3c912b": {
          "model_module": "@jupyter-widgets/base",
          "model_name": "LayoutModel",
          "model_module_version": "1.2.0",
          "state": {
            "_model_module": "@jupyter-widgets/base",
            "_model_module_version": "1.2.0",
            "_model_name": "LayoutModel",
            "_view_count": null,
            "_view_module": "@jupyter-widgets/base",
            "_view_module_version": "1.2.0",
            "_view_name": "LayoutView",
            "align_content": null,
            "align_items": null,
            "align_self": null,
            "border": null,
            "bottom": null,
            "display": null,
            "flex": null,
            "flex_flow": null,
            "grid_area": null,
            "grid_auto_columns": null,
            "grid_auto_flow": null,
            "grid_auto_rows": null,
            "grid_column": null,
            "grid_gap": null,
            "grid_row": null,
            "grid_template_areas": null,
            "grid_template_columns": null,
            "grid_template_rows": null,
            "height": null,
            "justify_content": null,
            "justify_items": null,
            "left": null,
            "margin": null,
            "max_height": null,
            "max_width": null,
            "min_height": null,
            "min_width": null,
            "object_fit": null,
            "object_position": null,
            "order": null,
            "overflow": null,
            "overflow_x": null,
            "overflow_y": null,
            "padding": null,
            "right": null,
            "top": null,
            "visibility": null,
            "width": null
          }
        },
        "8814b7f4b36741349666c3e30664f2c2": {
          "model_module": "@jupyter-widgets/controls",
          "model_name": "DescriptionStyleModel",
          "model_module_version": "1.5.0",
          "state": {
            "_model_module": "@jupyter-widgets/controls",
            "_model_module_version": "1.5.0",
            "_model_name": "DescriptionStyleModel",
            "_view_count": null,
            "_view_module": "@jupyter-widgets/base",
            "_view_module_version": "1.2.0",
            "_view_name": "StyleView",
            "description_width": ""
          }
        },
        "bc9427f170d34059bf75fef13e105037": {
          "model_module": "@jupyter-widgets/controls",
          "model_name": "FloatTextModel",
          "model_module_version": "1.5.0",
          "state": {
            "_dom_classes": [],
            "_model_module": "@jupyter-widgets/controls",
            "_model_module_version": "1.5.0",
            "_model_name": "FloatTextModel",
            "_view_count": null,
            "_view_module": "@jupyter-widgets/controls",
            "_view_module_version": "1.5.0",
            "_view_name": "FloatTextView",
            "continuous_update": false,
            "description": "dBm:",
            "description_tooltip": null,
            "disabled": false,
            "layout": "IPY_MODEL_d3c5e960834b4db18ba55d3f0b678539",
            "step": null,
            "style": "IPY_MODEL_4d8c45ad910f497cb198d4951915de60",
            "value": 3
          }
        },
        "d3c5e960834b4db18ba55d3f0b678539": {
          "model_module": "@jupyter-widgets/base",
          "model_name": "LayoutModel",
          "model_module_version": "1.2.0",
          "state": {
            "_model_module": "@jupyter-widgets/base",
            "_model_module_version": "1.2.0",
            "_model_name": "LayoutModel",
            "_view_count": null,
            "_view_module": "@jupyter-widgets/base",
            "_view_module_version": "1.2.0",
            "_view_name": "LayoutView",
            "align_content": null,
            "align_items": null,
            "align_self": null,
            "border": null,
            "bottom": null,
            "display": null,
            "flex": null,
            "flex_flow": null,
            "grid_area": null,
            "grid_auto_columns": null,
            "grid_auto_flow": null,
            "grid_auto_rows": null,
            "grid_column": null,
            "grid_gap": null,
            "grid_row": null,
            "grid_template_areas": null,
            "grid_template_columns": null,
            "grid_template_rows": null,
            "height": null,
            "justify_content": null,
            "justify_items": null,
            "left": null,
            "margin": null,
            "max_height": null,
            "max_width": null,
            "min_height": null,
            "min_width": null,
            "object_fit": null,
            "object_position": null,
            "order": null,
            "overflow": null,
            "overflow_x": null,
            "overflow_y": null,
            "padding": null,
            "right": null,
            "top": null,
            "visibility": null,
            "width": null
          }
        },
        "4d8c45ad910f497cb198d4951915de60": {
          "model_module": "@jupyter-widgets/controls",
          "model_name": "DescriptionStyleModel",
          "model_module_version": "1.5.0",
          "state": {
            "_model_module": "@jupyter-widgets/controls",
            "_model_module_version": "1.5.0",
            "_model_name": "DescriptionStyleModel",
            "_view_count": null,
            "_view_module": "@jupyter-widgets/base",
            "_view_module_version": "1.2.0",
            "_view_name": "StyleView",
            "description_width": ""
          }
        },
        "8fa5834e3390457590baf99cf26c01f5": {
          "model_module": "@jupyter-widgets/controls",
          "model_name": "LabelModel",
          "model_module_version": "1.5.0",
          "state": {
            "_dom_classes": [],
            "_model_module": "@jupyter-widgets/controls",
            "_model_module_version": "1.5.0",
            "_model_name": "LabelModel",
            "_view_count": null,
            "_view_module": "@jupyter-widgets/controls",
            "_view_module_version": "1.5.0",
            "_view_name": "LabelView",
            "description": "",
            "description_tooltip": null,
            "layout": "IPY_MODEL_a953597cb3634fb99b646e9afeab43c7",
            "placeholder": "​",
            "style": "IPY_MODEL_a63e1c6c0f02433d9220c7f33b48326f",
            "value": "1.9953 mW"
          }
        },
        "a953597cb3634fb99b646e9afeab43c7": {
          "model_module": "@jupyter-widgets/base",
          "model_name": "LayoutModel",
          "model_module_version": "1.2.0",
          "state": {
            "_model_module": "@jupyter-widgets/base",
            "_model_module_version": "1.2.0",
            "_model_name": "LayoutModel",
            "_view_count": null,
            "_view_module": "@jupyter-widgets/base",
            "_view_module_version": "1.2.0",
            "_view_name": "LayoutView",
            "align_content": null,
            "align_items": null,
            "align_self": null,
            "border": null,
            "bottom": null,
            "display": null,
            "flex": null,
            "flex_flow": null,
            "grid_area": null,
            "grid_auto_columns": null,
            "grid_auto_flow": null,
            "grid_auto_rows": null,
            "grid_column": null,
            "grid_gap": null,
            "grid_row": null,
            "grid_template_areas": null,
            "grid_template_columns": null,
            "grid_template_rows": null,
            "height": null,
            "justify_content": null,
            "justify_items": null,
            "left": null,
            "margin": null,
            "max_height": null,
            "max_width": null,
            "min_height": null,
            "min_width": null,
            "object_fit": null,
            "object_position": null,
            "order": null,
            "overflow": null,
            "overflow_x": null,
            "overflow_y": null,
            "padding": null,
            "right": null,
            "top": null,
            "visibility": null,
            "width": null
          }
        },
        "a63e1c6c0f02433d9220c7f33b48326f": {
          "model_module": "@jupyter-widgets/controls",
          "model_name": "DescriptionStyleModel",
          "model_module_version": "1.5.0",
          "state": {
            "_model_module": "@jupyter-widgets/controls",
            "_model_module_version": "1.5.0",
            "_model_name": "DescriptionStyleModel",
            "_view_count": null,
            "_view_module": "@jupyter-widgets/base",
            "_view_module_version": "1.2.0",
            "_view_name": "StyleView",
            "description_width": ""
          }
        }
      }
    }
  },
  "cells": [
    {
      "cell_type": "markdown",
      "metadata": {
        "id": "view-in-github",
        "colab_type": "text"
      },
      "source": [
        "<a href=\"https://colab.research.google.com/github/sonicepk/Anascombe/blob/main/dBm_to_milliW_vice_versa.ipynb\" target=\"_parent\"><img src=\"https://colab.research.google.com/assets/colab-badge.svg\" alt=\"Open In Colab\"/></a>"
      ]
    },
    {
      "cell_type": "code",
      "execution_count": 1,
      "metadata": {
        "colab": {
          "base_uri": "https://localhost:8080/",
          "height": 139,
          "referenced_widgets": [
            "a1805098ca6c4b6e8ab1d5edbbcee348",
            "8229c402b7ef470e98618375cfd7dc38",
            "7e5c54c7aabe4a6aa12fefe5f91ab0f5",
            "a5da68afab2c43cdb88a5643c8fd00ba",
            "c00fb306f7e645e0a78e0c7cfd3c912b",
            "8814b7f4b36741349666c3e30664f2c2",
            "bc9427f170d34059bf75fef13e105037",
            "d3c5e960834b4db18ba55d3f0b678539",
            "4d8c45ad910f497cb198d4951915de60",
            "8fa5834e3390457590baf99cf26c01f5",
            "a953597cb3634fb99b646e9afeab43c7",
            "a63e1c6c0f02433d9220c7f33b48326f"
          ]
        },
        "id": "9TcbRrbpEj1r",
        "outputId": "3f1430cb-f6ee-4e34-b29c-c68069858126"
      },
      "outputs": [
        {
          "output_type": "display_data",
          "data": {
            "text/plain": [
              "FloatText(value=1.0, description='Milliwatts (mW):')"
            ],
            "application/vnd.jupyter.widget-view+json": {
              "version_major": 2,
              "version_minor": 0,
              "model_id": "a1805098ca6c4b6e8ab1d5edbbcee348"
            }
          },
          "metadata": {}
        },
        {
          "output_type": "display_data",
          "data": {
            "text/plain": [
              "Label(value='dBm:')"
            ],
            "application/vnd.jupyter.widget-view+json": {
              "version_major": 2,
              "version_minor": 0,
              "model_id": "a5da68afab2c43cdb88a5643c8fd00ba"
            }
          },
          "metadata": {}
        },
        {
          "output_type": "display_data",
          "data": {
            "text/plain": [
              "FloatText(value=0.0, description='dBm:')"
            ],
            "application/vnd.jupyter.widget-view+json": {
              "version_major": 2,
              "version_minor": 0,
              "model_id": "bc9427f170d34059bf75fef13e105037"
            }
          },
          "metadata": {}
        },
        {
          "output_type": "display_data",
          "data": {
            "text/plain": [
              "Label(value='Milliwatts (mW):')"
            ],
            "application/vnd.jupyter.widget-view+json": {
              "version_major": 2,
              "version_minor": 0,
              "model_id": "8fa5834e3390457590baf99cf26c01f5"
            }
          },
          "metadata": {}
        }
      ],
      "source": [
        "import numpy as np\n",
        "import ipywidgets as widgets\n",
        "from IPython.display import display\n",
        "\n",
        "# --- Conversion Functions ---\n",
        "def milliwatts_to_dbm(milliwatts):\n",
        "    \"\"\"Converts power in milliwatts to dBm.\"\"\"\n",
        "    if milliwatts <= 0:\n",
        "      return None\n",
        "    dbm = 10 * np.log10(milliwatts)\n",
        "    return dbm\n",
        "\n",
        "def dbm_to_milliwatts(dbm):\n",
        "    \"\"\"Converts power in dBm to milliwatts.\"\"\"\n",
        "    milliwatts = 10 ** (dbm / 10)\n",
        "    return milliwatts\n",
        "\n",
        "# --- Input Widgets ---\n",
        "milliwatts_input = widgets.FloatText(\n",
        "    value=1.0,\n",
        "    description='Milliwatts (mW):',\n",
        "    disabled=False\n",
        ")\n",
        "\n",
        "dbm_input = widgets.FloatText(\n",
        "    value=0.0,\n",
        "    description='dBm:',\n",
        "    disabled=False\n",
        ")\n",
        "\n",
        "# --- Output Widgets ---\n",
        "dbm_output = widgets.Label(value='dBm:')\n",
        "milliwatts_output = widgets.Label(value='Milliwatts (mW):')\n",
        "\n",
        "# --- Update Functions ---\n",
        "def update_dbm_output(change):\n",
        "    milliwatts = change.new\n",
        "    if milliwatts is not None:\n",
        "      dbm = milliwatts_to_dbm(milliwatts)\n",
        "      if dbm is None:\n",
        "        dbm_output.value = \"Invalid input: Must be greater than 0.\"\n",
        "      else:\n",
        "        dbm_output.value = f'{dbm:.2f} dBm'\n",
        "    else:\n",
        "      dbm_output.value = \"Invalid input.\"\n",
        "\n",
        "\n",
        "def update_milliwatts_output(change):\n",
        "    dbm = change.new\n",
        "    if dbm is not None:\n",
        "        milliwatts = dbm_to_milliwatts(dbm)\n",
        "        milliwatts_output.value = f'{milliwatts:.4f} mW'\n",
        "\n",
        "# --- Observe Changes ---\n",
        "milliwatts_input.observe(update_dbm_output, names='value')\n",
        "dbm_input.observe(update_milliwatts_output, names='value')\n",
        "\n",
        "\n",
        "# --- Display Widgets ---\n",
        "display(milliwatts_input)\n",
        "display(dbm_output)\n",
        "display(dbm_input)\n",
        "display(milliwatts_output)"
      ]
    }
  ]
}