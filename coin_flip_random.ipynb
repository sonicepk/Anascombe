{
  "nbformat": 4,
  "nbformat_minor": 0,
  "metadata": {
    "colab": {
      "provenance": [],
      "authorship_tag": "ABX9TyOzD91vWqq9o8wu+3nFdTg6",
      "include_colab_link": true
    },
    "kernelspec": {
      "name": "python3",
      "display_name": "Python 3"
    },
    "language_info": {
      "name": "python"
    }
  },
  "cells": [
    {
      "cell_type": "markdown",
      "metadata": {
        "id": "view-in-github",
        "colab_type": "text"
      },
      "source": [
        "<a href=\"https://colab.research.google.com/github/sonicepk/Anascombe/blob/main/coin_flip_random.ipynb\" target=\"_parent\"><img src=\"https://colab.research.google.com/assets/colab-badge.svg\" alt=\"Open In Colab\"/></a>"
      ]
    },
    {
      "cell_type": "code",
      "execution_count": 2,
      "metadata": {
        "colab": {
          "base_uri": "https://localhost:8080/"
        },
        "id": "-JM2wTno92Fu",
        "outputId": "d9868154-2840-41d7-fae2-6f78b0191be9"
      },
      "outputs": [
        {
          "output_type": "stream",
          "name": "stdout",
          "text": [
            "Number of heads: 513\n",
            "Number of tails: 487\n"
          ]
        }
      ],
      "source": [
        "import random\n",
        "\n",
        "# Set the number of flips\n",
        "num_flips = 1000\n",
        "\n",
        "# Create a list to store the results\n",
        "results = []\n",
        "\n",
        "# Simulate the coin flips\n",
        "for _ in range(num_flips):\n",
        "  # Generate a random number between 0 and 1\n",
        "  random_number = random.random()\n",
        "\n",
        "  # If the random number is less than 0.5, it's heads\n",
        "  # Otherwise, it's tails\n",
        "  if random_number < 0.5:\n",
        "    results.append(\"Heads\")\n",
        "  else:\n",
        "    results.append(\"Tails\")\n",
        "\n",
        "# Print the results\n",
        "#print(results) # Avoid printing the results to keep the response concise.\n",
        "\n",
        "# Count the number of heads and tails\n",
        "num_heads = results.count(\"Heads\")\n",
        "num_tails = results.count(\"Tails\")\n",
        "\n",
        "# Print the summary\n",
        "print(f\"Number of heads: {num_heads}\")\n",
        "print(f\"Number of tails: {num_tails}\")"
      ]
    }
  ]
}